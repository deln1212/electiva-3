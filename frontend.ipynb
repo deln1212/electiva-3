{
 "cells": [
  {
   "cell_type": "markdown",
   "id": "7d93f10e",
   "metadata": {},
   "source": [
    "## 1. Frontend\n",
    "El **Frontend** es la parte visual de una aplicación o página web. Es lo que los usuarios ven e interactúan (interfaz gráfica). Se construye con **HTML, CSS y JavaScript**."
   ]
  },
  {
   "cell_type": "code",
   "execution_count": null,
   "id": "8d15307c",
   "metadata": {},
   "outputs": [],
   "source": [
    "\n",
    "# Ejemplo simple de frontend (HTML)\n",
    "from IPython.display import HTML\n",
    "HTML('''\n",
    "<!DOCTYPE html>\n",
    "<html>\n",
    "  <head>\n",
    "    <style>\n",
    "      body { font-family: Arial; text-align: center; background: #f0f0f0; }\n",
    "      h1 { color: #3498db; }\n",
    "      button { padding: 10px 20px; border: none; background: #2ecc71; color: white; cursor: pointer; }\n",
    "    </style>\n",
    "  </head>\n",
    "  <body>\n",
    "    <h1>Hola, soy el Frontend</h1>\n",
    "    <button onclick=\"alert('¡Botón presionado!')\">Click aquí</button>\n",
    "  </body>\n",
    "</html>\n",
    "''')\n"
   ]
  },
  {
   "cell_type": "markdown",
   "id": "cbc2453a",
   "metadata": {},
   "source": [
    "## 2. Backend\n",
    "El **Backend** es la parte lógica y del servidor. Gestiona la base de datos, la lógica de negocio y responde a las peticiones del cliente."
   ]
  },
  {
   "cell_type": "code",
   "execution_count": null,
   "id": "b3f16306",
   "metadata": {},
   "outputs": [],
   "source": [
    "\n",
    "# Ejemplo simple de Backend con Python (simulación)\n",
    "def login(usuario, password):\n",
    "    if usuario == \"admin\" and password == \"1234\":\n",
    "        return \"Acceso concedido\"\n",
    "    else:\n",
    "        return \"Acceso denegado\"\n",
    "\n",
    "login(\"admin\", \"1234\")\n"
   ]
  },
  {
   "cell_type": "markdown",
   "id": "fc067b93",
   "metadata": {},
   "source": [
    "## 3. Frameworks\n",
    "Los **Frameworks** son herramientas que facilitan el desarrollo, ya que incluyen estructuras y componentes reutilizables.\n",
    "- Ejemplos frontend: React, Angular, Vue\n",
    "- Ejemplos backend: Django, Flask, Express"
   ]
  },
  {
   "cell_type": "code",
   "execution_count": null,
   "id": "3b6d0558",
   "metadata": {},
   "outputs": [],
   "source": [
    "\n",
    "# Ejemplo: Flask como framework de backend\n",
    "from flask import Flask\n",
    "\n",
    "app = Flask(__name__)\n",
    "\n",
    "@app.route(\"/\")\n",
    "def home():\n",
    "    return \"Hola, este es un ejemplo de framework Flask\"\n"
   ]
  },
  {
   "cell_type": "markdown",
   "id": "7ac14a7f",
   "metadata": {},
   "source": [
    "## 4. Librerías\n",
    "Las **librerías** son colecciones de funciones o módulos que se pueden importar y usar en un proyecto.\n",
    "Ejemplo: NumPy, Pandas, Bootstrap, jQuery"
   ]
  },
  {
   "cell_type": "code",
   "execution_count": null,
   "id": "df8bbe93",
   "metadata": {},
   "outputs": [],
   "source": [
    "\n",
    "# Ejemplo: Librería NumPy\n",
    "import numpy as np\n",
    "arr = np.array([1,2,3,4,5])\n",
    "arr.mean()\n"
   ]
  },
  {
   "cell_type": "markdown",
   "id": "5908a00b",
   "metadata": {},
   "source": [
    "## 5. API\n",
    "Una **API (Application Programming Interface)** permite la comunicación entre aplicaciones. Sirve para consumir datos de servicios externos."
   ]
  },
  {
   "cell_type": "code",
   "execution_count": null,
   "id": "4a664f05",
   "metadata": {},
   "outputs": [],
   "source": [
    "\n",
    "# Ejemplo: consumo de API con requests (usando JSONPlaceholder)\n",
    "import requests\n",
    "\n",
    "url = \"https://jsonplaceholder.typicode.com/posts/1\"\n",
    "resp = requests.get(url)\n",
    "resp.json()\n"
   ]
  },
  {
   "cell_type": "markdown",
   "id": "183e4d40",
   "metadata": {},
   "source": [
    "## 6. Base de Datos SQL\n",
    "Las **Bases de Datos SQL** usan un lenguaje estructurado para consultar y manejar datos. Ejemplo: MySQL, PostgreSQL, SQLite."
   ]
  },
  {
   "cell_type": "code",
   "execution_count": null,
   "id": "c552f69e",
   "metadata": {},
   "outputs": [],
   "source": [
    "\n",
    "# Ejemplo con SQLite en Python\n",
    "import sqlite3\n",
    "\n",
    "conn = sqlite3.connect(\":memory:\")\n",
    "cursor = conn.cursor()\n",
    "cursor.execute(\"CREATE TABLE usuarios (id INTEGER, nombre TEXT)\")\n",
    "cursor.execute(\"INSERT INTO usuarios VALUES (1,'Raúl')\")\n",
    "cursor.execute(\"SELECT * FROM usuarios\").fetchall()\n"
   ]
  },
  {
   "cell_type": "markdown",
   "id": "a421faa5",
   "metadata": {},
   "source": [
    "## 7. Base de Datos NoSQL\n",
    "Las **Bases de Datos NoSQL** no usan tablas como SQL, sino documentos, colecciones o grafos. Ejemplo: MongoDB, Firebase."
   ]
  },
  {
   "cell_type": "code",
   "execution_count": null,
   "id": "a7d3f5ff",
   "metadata": {},
   "outputs": [],
   "source": [
    "\n",
    "# Ejemplo de NoSQL simulado con diccionarios en Python\n",
    "usuarios = {\"1\":{\"nombre\":\"Raúl\"},\"2\":{\"nombre\":\"Ana\"}}\n",
    "usuarios[\"1\"]\n"
   ]
  },
  {
   "cell_type": "markdown",
   "id": "857b2e35",
   "metadata": {},
   "source": [
    "## 8. JSON\n",
    "**JSON (JavaScript Object Notation)** es un formato ligero para el intercambio de datos. Muy usado en APIs."
   ]
  },
  {
   "cell_type": "code",
   "execution_count": null,
   "id": "7d56bf65",
   "metadata": {},
   "outputs": [],
   "source": [
    "\n",
    "import json\n",
    "\n",
    "# Crear un JSON en Python\n",
    "data = {\"nombre\":\"Raúl\", \"edad\":25, \"carrera\":\"Análisis de Sistemas\"}\n",
    "json_str = json.dumps(data, indent=2)\n",
    "json_str\n"
   ]
  }
 ],
 "metadata": {},
 "nbformat": 4,
 "nbformat_minor": 5
}